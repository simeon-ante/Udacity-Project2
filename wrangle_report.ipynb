{
 "cells": [
  {
   "cell_type": "markdown",
   "metadata": {},
   "source": [
    "# Project: Wrangle and Analyse Data\n",
    "\n",
    "\n",
    "## Wrangling Report\n",
    "\n"
   ]
  },
  {
   "cell_type": "markdown",
   "metadata": {},
   "source": [
    "### Introduction\n",
    "\n",
    "Real-world data rarely comes clean. In this project, I used Python and its libraries, to gather data from three sources and in three different formats. I assessed its quality and tidiness, then cleaned it. \n",
    "\n",
    "I followed three steps in the wrangling process which are:\n",
    "1. Gather data\n",
    "2. Assess data\n",
    "3. Clean data\n",
    "\n",
    "I would now explain these steps in detail. "
   ]
  },
  {
   "cell_type": "markdown",
   "metadata": {},
   "source": [
    "### 1.Gather Data\n",
    "\n",
    "The data used for this project was gathered from three sources as follows:\n",
    "\n",
    "**a. Twitter archive enhanced:** This was a csv file that was provided by the Udacity Instructors. I downloaded this file and read it using the pandas library.\n",
    "\n",
    "**b Image Predictions:** This was a tsv file hosted on a webpage. I got this data using the request python package and the url provided. \n",
    "\n",
    "**c. Twitter API & JSON:** The expectation was to access this data from the twitter database using the tweepy library however, I had a challenge getting access from Twitter. An alternative was provided. I used the JSON file provided and the json library to gather this data."
   ]
  },
  {
   "cell_type": "markdown",
   "metadata": {},
   "source": [
    "### 2.Assess Data\n",
    "\n",
    "After gathering the data (twitter=archive-enhanced, images data and tweets data), I accessed the data both visually and programmatically. \n",
    "I detected some quality and tidiness issues as described below:\n"
   ]
  },
  {
   "cell_type": "markdown",
   "metadata": {},
   "source": [
    "#### QUALITY ISSUES\n",
    "\n",
    "I identified the following quality issues in the data\n",
    "\n",
    "1. Wrong datatype (integer to strings)\n",
    "2. Wrong datatype (timestamp)\n",
    "3. Irrelevant rows\n",
    "4. Irrelevant columns\n",
    "5. Incorrect dog names\n",
    "6. Incorrect ratings\n",
    "7. Some images do not belong to dogs\n",
    "8. Inconsistent dog breed names\n",
    "\n"
   ]
  },
  {
   "cell_type": "markdown",
   "metadata": {},
   "source": [
    "#### TIDINESS ISSUES\n",
    "\n",
    "1.Doggo, floofer, pupper, puppo columns should be in one column (dog type)\n",
    "\n",
    "2.Twitter archive and tweet json tables should be one"
   ]
  },
  {
   "cell_type": "markdown",
   "metadata": {},
   "source": [
    "### 3.Clean Data\n",
    "\n",
    "In this step, I cleaned the quality and tidiness issues I encountered in the assess step.\n",
    "\n",
    "The cleaning process had three steps for each issue:\n",
    "a. Define\n",
    "b. Code\n",
    "c. Test\n",
    "\n",
    "Firstly, I duplicated each table to avoid losing or tempering with the data during my cleaning process.\n",
    "\n",
    "Some cleaning actions I took included changing datatypes of some columns, dropping unnecessary columns, changing text case to have consistent data e.t.c\n",
    "\n",
    "For the tidiness issues, I melted four columns describing dog types into one and merged the three tables into one main dataframe.\n",
    "\n",
    "The detailed cleaning process is available in the wrangle_act jupyter notebook."
   ]
  },
  {
   "cell_type": "markdown",
   "metadata": {},
   "source": [
    "### Conclusion\n",
    "\n",
    "Data wrangling is an iterative process. After identifying and cleaning 10 issues in total, it does not certify that the data is free of issues. \n",
    "\n",
    "This data can still be worked on to obtain an even cleaner data and be used for analysis."
   ]
  }
 ],
 "metadata": {
  "kernelspec": {
   "display_name": "Python 3",
   "language": "python",
   "name": "python3"
  },
  "language_info": {
   "codemirror_mode": {
    "name": "ipython",
    "version": 3
   },
   "file_extension": ".py",
   "mimetype": "text/x-python",
   "name": "python",
   "nbconvert_exporter": "python",
   "pygments_lexer": "ipython3",
   "version": "3.6.3"
  }
 },
 "nbformat": 4,
 "nbformat_minor": 2
}
